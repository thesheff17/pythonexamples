{
 "cells": [
  {
   "cell_type": "code",
   "execution_count": null,
   "metadata": {},
   "outputs": [],
   "source": [
    "# Welcome to my python3 examples/tutorials...\n",
    "\n",
    "# anything that starts with a number sign is a comment\n",
    "# these do not run, but provide information to the user\n",
    "# running the program.  \n",
    "\n",
    "# below is the example on how to print hello world to the terminal.\n",
    "# click the \"Run\" button at the top if you are running this inside\n",
    "# a jupyter notebook.\n",
    "\n",
    "print (\"hello world!\")"
   ]
  },
  {
   "cell_type": "code",
   "execution_count": null,
   "metadata": {},
   "outputs": [],
   "source": [
    "# this shows you which version of python you are using.\n",
    "\n",
    "# This is also an example on how to import a package.  \n",
    "# sys is part of the standard library.  \n",
    "# More info can be found here: https://docs.python.org/3/library/sys.html\n",
    "\n",
    "import sys\n",
    "\n",
    "print (\"The version of python you are running is: \" + sys.version)"
   ]
  },
  {
   "cell_type": "code",
   "execution_count": null,
   "metadata": {},
   "outputs": [],
   "source": [
    "# you also don't have to import the entire sys module.  This is a little cleaner.\n",
    "\n",
    "from sys import version\n",
    "\n",
    "print (\"The version of python you are running is: \" + version)"
   ]
  },
  {
   "cell_type": "code",
   "execution_count": null,
   "metadata": {},
   "outputs": [],
   "source": [
    "# you can also shorten imports so you don't have to type as much.\n",
    "\n",
    "from sys import version as vs\n",
    "\n",
    "print (\"The version of python you are running is: \" + vs)"
   ]
  },
  {
   "cell_type": "code",
   "execution_count": null,
   "metadata": {},
   "outputs": [],
   "source": [
    "# assigning variables\n",
    "\n",
    "name = \"Dan\"\n",
    "age = 40\n",
    "\n",
    "# concatenation of variables\n",
    "\n",
    "# concatenation\n",
    "print (\"Hello, %s. You are %s years old.  Welcome to python!\" % (name, age))\n",
    "\n",
    "# everything in python is an object.  \n",
    "# For example lets check the python object type of variables names and age.\n",
    "print (type(name))\n",
    "print (type(age)) \n",
    "\n",
    "# another way. \n",
    "# We have to convert age to a string\n",
    "print (\"Hello, \" + name + \". You are \" + str(age) + \" years old.  Welcome to python!\")"
   ]
  },
  {
   "cell_type": "code",
   "execution_count": null,
   "metadata": {},
   "outputs": [],
   "source": [
    "# What does it mean that everything is an object in python?\n",
    "# This means special properties exist on all objects depending on what type it is.\n",
    "# for example lets create a string.\n",
    "\n",
    "name = \"Bob Green\"\n",
    "print (type(name))\n",
    "\n",
    "# now lets \"split\" this string into different parts to represent fname and lname\n",
    "# \"split\" is a special property on string objects.\n",
    "name_list = name.split()\n",
    "\n",
    "# lets check the type of our name_list\n",
    "print(type(name_list)) # I will go way more into lists soon.\n",
    "\n",
    "# assign fname and lname vars\n",
    "fname = name_list[0]\n",
    "lname = name_list[1]\n",
    "\n",
    "print (\"Hello Mr %s. Welcome to python! Your full name is %s %s\" % (lname, fname, lname))"
   ]
  },
  {
   "cell_type": "code",
   "execution_count": null,
   "metadata": {},
   "outputs": [],
   "source": [
    "# using dir() to see all the methods on the objects.\n",
    "# there is a bunch of output here.  Don't feel overwhelmed by the amount.\n",
    "# we will learn these methods over time.\n",
    "\n",
    "name = \"Dan\"\n",
    "age = 40\n",
    "\n",
    "print (\"string methods...\")\n",
    "print (dir(name))\n",
    "\n",
    "print ()\n",
    "print (\"int methods...\")\n",
    "print (dir(age))"
   ]
  },
  {
   "cell_type": "code",
   "execution_count": null,
   "metadata": {},
   "outputs": [],
   "source": [
    "# getting help for a module\n",
    "# we learn more about the subprocess module later on.\n",
    "\n",
    "from subprocess import call\n",
    "from time import sleep\n",
    "\n",
    "print (\"sleep() method on the time module.\")\n",
    "help(sleep)\n",
    "print ()\n",
    "print (\"call() method on the subprocess module.\")\n",
    "help(call)"
   ]
  },
  {
   "cell_type": "code",
   "execution_count": null,
   "metadata": {},
   "outputs": [],
   "source": [
    "# if statement and using \"find\" method on string\n",
    "name = \"Dan\"\n",
    "\n",
    "if name.find('a') > 0:\n",
    "    print (\"name contains an a character.\")\n",
    "else:\n",
    "    print (\"name does not contain an a character.\")"
   ]
  },
  {
   "cell_type": "code",
   "execution_count": null,
   "metadata": {},
   "outputs": [],
   "source": [
    "# how to make a def.  \n",
    "# DRY - Don't repeat your self...this includes code.\n",
    "\n",
    "def contains_char(name1, char1):\n",
    "    if name1.find(char1) > 0:\n",
    "        print ('found char')\n",
    "    else:\n",
    "        print ('did not find char')\n",
    "\n",
    "name = \"Dan\"\n",
    "contains_char(name, 'a')\n",
    "contains_char(name, 's')\n",
    "\n",
    "print ()\n",
    "name = \"Bob\"\n",
    "contains_char(name, 'B')\n",
    "contains_char(name, 'o')\n",
    "contains_char(name, 's')"
   ]
  },
  {
   "cell_type": "code",
   "execution_count": null,
   "metadata": {},
   "outputs": [],
   "source": [
    "# def can return data back\n",
    "\n",
    "def add_values(x, y):\n",
    "    return x + y\n",
    "\n",
    "print(add_values(5,10))\n",
    "print(add_values(1,5))\n",
    "print(add_values(5,15))\n",
    "x = add_values(5,100)\n",
    "print(x)\n",
    "print(type(x))"
   ]
  },
  {
   "cell_type": "code",
   "execution_count": null,
   "metadata": {},
   "outputs": [],
   "source": [
    "# whenever someone asks me if there are rules to follow for python \n",
    "# I point people at this module.  Some of these might not make sense now\n",
    "# but over time you will learn what these mean as you write more python. :) \n",
    "\n",
    "import this"
   ]
  }
 ],
 "metadata": {
  "kernelspec": {
   "display_name": "Python 3",
   "language": "python",
   "name": "python3"
  },
  "language_info": {
   "codemirror_mode": {
    "name": "ipython",
    "version": 3
   },
   "file_extension": ".py",
   "mimetype": "text/x-python",
   "name": "python",
   "nbconvert_exporter": "python",
   "pygments_lexer": "ipython3",
   "version": "3.7.6"
  }
 },
 "nbformat": 4,
 "nbformat_minor": 4
}
