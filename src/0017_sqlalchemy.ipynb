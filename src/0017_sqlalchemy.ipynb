{
 "cells": [
  {
   "cell_type": "code",
   "execution_count": null,
   "metadata": {},
   "outputs": [],
   "source": [
    "# standard library imports \n",
    "from os.path import isfile\n",
    "from os import remove\n",
    "import logging\n",
    "\n",
    "# let gets the version of sqlalchemy\n",
    "import sqlalchemy\n",
    "print (sqlalchemy.__version__)\n",
    "\n",
    "# this helps turn down sqlalchemy logging\n",
    "logging.basicConfig()\n",
    "logging.getLogger('sqlalchemy').setLevel(logging.ERROR)\n",
    "\n",
    "# flip this boolean to cleanup the database to test again\n",
    "cleanup = True\n",
    "\n",
    "if cleanup:\n",
    "    if isfile(\"movies.db\"):\n",
    "        print (\"deleted database file.\")\n",
    "        remove('movies.db')\n",
    "        "
   ]
  },
  {
   "cell_type": "code",
   "execution_count": null,
   "metadata": {},
   "outputs": [],
   "source": [
    "# if you are going to use sqlalchemy in production I recommend using the C extention here:\n",
    "# https://docs.sqlalchemy.org/en/13/intro.html#installing-the-c-extensions\n",
    "# and also using a more perminate backend database (mysql/postgres)\n",
    "# for demo purposes we are going to use sqllite\n",
    "\n",
    "from sqlalchemy import Column, Integer, String, create_engine\n",
    "from sqlalchemy.ext.declarative import declarative_base\n",
    "\n",
    "# db connection\n",
    "engine = create_engine('sqlite:///movies.db')\n",
    "# if you want to see lots of output on what sqlalchemy is doing use echo = True\n",
    "#engine = create_engine('sqlite:///movies.db', echo = True)\n",
    "\n",
    "Base = declarative_base()\n",
    "\n",
    "# are class inherits from Base so we get a bunch of new features \n",
    "class Movies(Base):\n",
    "    __tablename__ = 'movies' # name of the table in the db\n",
    "    \n",
    "    id = Column(Integer, primary_key=True)\n",
    "    name = Column(String)\n",
    "    stars = Column(String)\n",
    "    \n",
    "    # we are overloading the __repr__ method so we can see this better\n",
    "    def __repr__(self):\n",
    "        return \"<Movies(name='%s', stars='%s')>\" % (self.name, self.stars)\n",
    "\n",
    "Movies.__table__\n",
    "Base.metadata.create_all(engine)\n",
    "print ('created table movies...')"
   ]
  },
  {
   "cell_type": "code",
   "execution_count": null,
   "metadata": {},
   "outputs": [],
   "source": [
    "# using sessions and starting to insert data\n",
    "from sqlalchemy.orm import sessionmaker\n",
    "Session = sessionmaker(bind=engine)\n",
    "session = Session()\n",
    "\n",
    "ins1 = Movies(name=\"Star Wars\", stars=\"4 stars\")\n",
    "ins2 = Movies(name=\"Dark Knight\", stars=\"4 stars\")\n",
    "\n",
    "session.add(ins1)\n",
    "session.add(ins2)\n",
    "session.commit()\n",
    "\n",
    "print (\"inserted 2 rows...\")"
   ]
  },
  {
   "cell_type": "code",
   "execution_count": null,
   "metadata": {},
   "outputs": [],
   "source": [
    "# we can also chain inserts\n",
    "\n",
    "ins1 = Movies(name=\"The Big Lebowski\", stars=\"4 stars\")\n",
    "ins2 = Movies(name=\"Innerspace\", stars=\"3 stars\")\n",
    "\n",
    "session.add_all([ins1,ins2])\n",
    "session.commit()\n",
    "print (\"inserted 2 rows...\")"
   ]
  },
  {
   "cell_type": "code",
   "execution_count": null,
   "metadata": {},
   "outputs": [],
   "source": [
    "# lots of times you need to do an insert and get the id \n",
    "# of the row you just inserted.  \n",
    "\n",
    "ins1 = Movies(name=\"Vanilla sky\", stars=\"4 stars\")\n",
    "session.add(ins1)\n",
    "session.commit()\n",
    "print (ins1.id)\n",
    "\n",
    "# if you try to get the id before commit you get a None\n",
    "# so make sure to always commit() before trying retrieving the id\n",
    "ins1 = Movies(name=\"Vanilla Sky\", stars=\"4 stars\")\n",
    "session.add(ins1)\n",
    "print (ins1.id)"
   ]
  },
  {
   "cell_type": "code",
   "execution_count": null,
   "metadata": {},
   "outputs": [],
   "source": [
    "# sqlalchemy supports save points, rollbacks, and transactions\n",
    "# I don't recommend using these with sqlite so I will just provide\n",
    "# a couple links to resources\n",
    "\n",
    "# https://transaction.readthedocs.io/en/latest/sqlalchemy.html\n",
    "# https://docs.sqlalchemy.org/en/13/orm/tutorial.html#rolling-back"
   ]
  },
  {
   "cell_type": "code",
   "execution_count": null,
   "metadata": {},
   "outputs": [],
   "source": [
    "# select * from table \n",
    "\n",
    "for instance in session.query(Movies):\n",
    "    print(instance.name)\n",
    "    print (instance.stars)\n",
    "    print ()"
   ]
  },
  {
   "cell_type": "code",
   "execution_count": null,
   "metadata": {},
   "outputs": [],
   "source": []
  },
  {
   "cell_type": "code",
   "execution_count": null,
   "metadata": {},
   "outputs": [],
   "source": [
    "# select based on order \n",
    "for instance in session.query(Movies).order_by('name'):\n",
    "    print(instance.name)\n",
    "    print (instance.stars)\n",
    "    print ()"
   ]
  },
  {
   "cell_type": "code",
   "execution_count": null,
   "metadata": {},
   "outputs": [],
   "source": [
    "# select based on where clause \n",
    "for instance in session.query(Movies).filter(Movies.name == \"Dark Knight\"):\n",
    "    print(instance.name)\n",
    "    print (instance.stars)\n",
    "    print ()"
   ]
  },
  {
   "cell_type": "code",
   "execution_count": null,
   "metadata": {},
   "outputs": [],
   "source": [
    "# select using or\n",
    "from sqlalchemy import or_\n",
    "\n",
    "for instance in session.query(Movies).filter(or_(Movies.name == \"Dark Knight\", Movies.name == \"Star Wars\")):\n",
    "    print(instance.name)\n",
    "    print (instance.stars)\n",
    "    print ()\n",
    "    "
   ]
  },
  {
   "cell_type": "code",
   "execution_count": null,
   "metadata": {},
   "outputs": [],
   "source": [
    "# select using and\n",
    "for instance in session.query(Movies).filter(Movies.name == \"Dark Knight\").filter(Movies.stars == \"4 stars\"):\n",
    "    print(instance.name)\n",
    "    print (instance.stars)\n",
    "    print ()"
   ]
  },
  {
   "cell_type": "code",
   "execution_count": null,
   "metadata": {},
   "outputs": [],
   "source": [
    "# select using like\n",
    "for instance in session.query(Movies).filter(Movies.name.like(\"%ar%\")):\n",
    "    print(instance.name)\n",
    "    print (instance.stars)\n",
    "    print ()"
   ]
  },
  {
   "cell_type": "code",
   "execution_count": null,
   "metadata": {},
   "outputs": [],
   "source": [
    "# you also have a bunch of other properties\n",
    "print (session.query(Movies).first())\n",
    "\n",
    "print ()\n",
    "print (session.query(Movies).all())\n",
    "\n",
    "print ()\n",
    "print (session.query(Movies).count())"
   ]
  },
  {
   "cell_type": "code",
   "execution_count": null,
   "metadata": {},
   "outputs": [],
   "source": [
    "# lets delete our table because now we are going to define\n",
    "# some relationship. We have to close our session or we will\n",
    "# get a lock using sqlite\n",
    "\n",
    "from sqlalchemy.exc import OperationalError\n",
    "\n",
    "session.close()\n",
    "try:\n",
    "    Movies.__table__.drop(engine)\n",
    "except OperationalError:\n",
    "    print (\"table movies does not exist...\")\n",
    "    pass\n",
    "\n",
    "try:\n",
    "    Actors.__table__.drop(engine)\n",
    "except (OperationalError, NameError):\n",
    "    print (\"table actors does not exist...\")\n",
    "    pass\n",
    "\n",
    "session.close()\n",
    "engine.dispose()\n",
    "print ('Table Succesfully dropped...')"
   ]
  },
  {
   "cell_type": "code",
   "execution_count": null,
   "metadata": {},
   "outputs": [],
   "source": [
    "# example of one to many relationship\n",
    "import os\n",
    "\n",
    "from sqlalchemy.orm import sessionmaker\n",
    "from sqlalchemy import create_engine, Column, Integer, String, ForeignKey\n",
    "from sqlalchemy.orm import relationship\n",
    "from sqlalchemy.ext.declarative import declarative_base\n",
    "\n",
    "Base = declarative_base()\n",
    "\n",
    "\n",
    "def check_file(file):\n",
    "    if os.path.isfile(file):\n",
    "        os.remove(file)\n",
    "\n",
    "\n",
    "class Movies(Base):\n",
    "    __tablename__ = 'movies'\n",
    "    __table_args__ = {'extend_existing': True}\n",
    "\n",
    "    id = Column(Integer, primary_key=True)\n",
    "    name = Column(String)\n",
    "    stars = Column(String)\n",
    "    children = relationship(\"Actors\")\n",
    "\n",
    "\n",
    "class Actors(Base):\n",
    "    __tablename__ = 'actors'\n",
    "    __table_args__ = {'extend_existing': True}\n",
    "\n",
    "    id = Column(Integer, primary_key=True)\n",
    "    name = Column(String)\n",
    "    gender = Column(String)\n",
    "    age = Column(Integer)\n",
    "    parent_id = Column(Integer, ForeignKey('movies.id'))\n",
    "\n",
    "\n",
    "if __name__ == \"__main__\":\n",
    "    file = 'db.db'\n",
    "    check_file(file)\n",
    "    engine = create_engine('sqlite:///' + file)\n",
    "    Base.metadata.create_all(engine)\n",
    "\n",
    "    Session = sessionmaker(bind=engine)\n",
    "    session = Session()\n",
    "\n",
    "    # lets define some movies\n",
    "    movie1 = Movies(name=\"Vanilla Sky\", stars=\"4 stars\")\n",
    "    movie2 = Movies(name=\"Star Wars\", stars=\"4 stars\")\n",
    "\n",
    "    actor1 = Actors(name=\"Tom Cruise\", gender=\"male\", age=57)\n",
    "    actor2 = Actors(name=\"Penélope Cruz\", gender=\"female\", age=45)\n",
    "    actor3 = Actors(name=\"Cameron Diaz\", gender=\"female\", age=47)\n",
    "    actor4 = Actors(name=\"Val Kilmver\", gender=\"male\", age=60)\n",
    "    actor5 = Actors(name=\"Mark Hamill\", gender=\"male\", age=68)\n",
    "    actor6 = Actors(name=\"Harrison Ford\", gender=\"male\", age=77)\n",
    "\n",
    "    movie1.children = [actor1, actor2, actor3]\n",
    "    movie2.children = [actor5, actor6]\n",
    "\n",
    "    session.add(movie1)\n",
    "    session.add(movie2)\n",
    "    session.commit()\n",
    "\n",
    "    for instance in session.query(Movies).all():\n",
    "        print(instance.name)\n",
    "        print(instance.stars)\n",
    "\n",
    "        print()\n",
    "\n",
    "        for each in instance.children:\n",
    "            print(each.name)\n",
    "            print(each.gender)\n",
    "            print(each.age)\n",
    "\n",
    "        print()\n",
    "\n",
    "    print(\"script completed...\")\n"
   ]
  },
  {
   "cell_type": "code",
   "execution_count": null,
   "metadata": {},
   "outputs": [],
   "source": [
    "# more documentation about relationships can be found here: \n",
    "# https://docs.sqlalchemy.org/en/13/orm/relationships.html"
   ]
  },
  {
   "cell_type": "markdown",
   "metadata": {},
   "source": [
    "next tutorial: [0018_decorators.ipynb](https://mybinder.org/v2/gh/thesheff17/pythonexamples/master?filepath=src%2F0018_decorators.ipynb)"
   ]
  }
 ],
 "metadata": {
  "kernelspec": {
   "display_name": "Python 3",
   "language": "python",
   "name": "python3"
  },
  "language_info": {
   "codemirror_mode": {
    "name": "ipython",
    "version": 3
   },
   "file_extension": ".py",
   "mimetype": "text/x-python",
   "name": "python",
   "nbconvert_exporter": "python",
   "pygments_lexer": "ipython3",
   "version": "3.7.6"
  }
 },
 "nbformat": 4,
 "nbformat_minor": 4
}
