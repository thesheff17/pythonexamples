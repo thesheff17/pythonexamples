{
 "cells": [
  {
   "cell_type": "code",
   "execution_count": null,
   "metadata": {},
   "outputs": [],
   "source": [
    "# I will build some examples that will help either or both \n",
    "# A) memory \n",
    "# B) speed"
   ]
  },
  {
   "cell_type": "code",
   "execution_count": null,
   "metadata": {},
   "outputs": [],
   "source": [
    "# sometimes you end up with giant lists and you want them to be faster\n",
    "# and store less memory on the system.  This is where arrays can help.\n",
    "\n",
    "# list require a number of extras in order to work.  Arrays we can define\n",
    "# specially the type we are going to use to save space in memory.\n",
    "# the specific types are located here: https://docs.python.org/3/library/array.html#module-array\n",
    "# in this example I'm going to use a signed short which takes 2 bytes:\n",
    "# range is [−32,767, +32,767]\n",
    "\n",
    "from array import array\n",
    "from sys import getsizeof\n",
    "\n",
    "a = [5]\n",
    "b = array('h', [5])\n",
    "\n",
    "print (getsizeof(a))\n",
    "print (getsizeof(b))\n",
    "\n",
    "# we can't go over 32,767 with a signed short\n",
    "# this shows how well b is compact vs a list size.\n",
    "x = list(range(1, 30000))\n",
    "\n",
    "a = x\n",
    "b = array('h', x)\n",
    "\n",
    "print (\"a is 3 times bigger then b\")\n",
    "print (getsizeof(a))\n",
    "print (getsizeof(b))\n",
    "\n",
    "print (\"lets add another item.\")\n",
    "b.append(500)\n",
    "print (getsizeof(b))"
   ]
  }
 ],
 "metadata": {
  "kernelspec": {
   "display_name": "Python 3",
   "language": "python",
   "name": "python3"
  },
  "language_info": {
   "codemirror_mode": {
    "name": "ipython",
    "version": 3
   },
   "file_extension": ".py",
   "mimetype": "text/x-python",
   "name": "python",
   "nbconvert_exporter": "python",
   "pygments_lexer": "ipython3",
   "version": "3.7.6"
  }
 },
 "nbformat": 4,
 "nbformat_minor": 4
}
