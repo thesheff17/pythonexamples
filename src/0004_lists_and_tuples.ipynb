{
 "cells": [
  {
   "cell_type": "code",
   "execution_count": null,
   "metadata": {},
   "outputs": [],
   "source": [
    "# list are used all the time in python.\n",
    "# list are just an object that stores other python objects in a \"list\"\n",
    "\n",
    "# A variable that is a list that contains all string data types.\n",
    "name_list = ['bob', 'chris', 'dan', 'laura', 'david']\n",
    "\n",
    "# what is the type?\n",
    "print (type(name_list))\n",
    "\n",
    "# loop through name list printing the value and the type\n",
    "for each in name_list:\n",
    "    print (\"value: \" + each + \" \" + str(type(each)))"
   ]
  },
  {
   "cell_type": "code",
   "execution_count": null,
   "metadata": {},
   "outputs": [],
   "source": [
    "# you can also mix and match values:\n",
    "\n",
    "# mixed data types.  \n",
    "# as long as you know your structure you can do things like this.\n",
    "my_list = [40, 'dan', 10, 'chris', 22, 'laura', 55, 'steve']\n",
    "\n",
    "# loop through my_list.  Also converting everything to string\n",
    "for each in my_list:\n",
    "    print (\"value: \" + str(each) + \" \" + str(type(each)))\n",
    "\n",
    "print ()\n",
    "for each in my_list:\n",
    "    # lots of people like to print like this.\n",
    "    print (\"value: %s type: %s\" % (str(each), str(type(each))))"
   ]
  },
  {
   "cell_type": "code",
   "execution_count": null,
   "metadata": {},
   "outputs": [],
   "source": [
    "# all list have length\n",
    "my_list = [40, 'dan', 10, 'chris', 22, 'laura', 55, 'steve']\n",
    "\n",
    "print (len(my_list))\n",
    "\n",
    "# you can also loop through sublists.\n",
    "# skip first 4 items\n",
    "for each in my_list[4:]:\n",
    "     print (\"value: \" + str(each) + \" \" + str(type(each)))\n",
    "\n",
    "print ()\n",
    "\n",
    "# skip last item\n",
    "for each in my_list[:-2]:\n",
    "     print (\"value: \" + str(each) + \" \" + str(type(each)))"
   ]
  },
  {
   "cell_type": "code",
   "execution_count": null,
   "metadata": {},
   "outputs": [],
   "source": [
    "# list support append which is very useful for building data objects \n",
    "# for your programs.\n",
    "\n",
    "# for example lets keep track of people age of a classroom\n",
    "\n",
    "class_age = [9, 7, 4, 6, 9, 10, 9, 9, 11, 10]\n",
    "print (len(class_age))\n",
    "\n",
    "# then we need to add other students as they are added. \n",
    "class_age.append(9)\n",
    "class_age.append(11)\n",
    "class_age.append(12)\n",
    "\n",
    "print (len(class_age))\n",
    "\n",
    "print (class_age)"
   ]
  },
  {
   "cell_type": "code",
   "execution_count": null,
   "metadata": {},
   "outputs": [],
   "source": [
    "# deleting elements from a list\n",
    "name_list = ['bob', 'chris', 'dan', 'laura', 'david']\n",
    "\n",
    "print (name_list)\n",
    "\n",
    "name_list.remove('dan')\n",
    "name_list.remove('laura')\n",
    "\n",
    "print (name_list)"
   ]
  },
  {
   "cell_type": "code",
   "execution_count": null,
   "metadata": {},
   "outputs": [],
   "source": [
    "# using list as stacks\n",
    "\n",
    "# empty list\n",
    "my_list = [\"dan\", \"chris\", \"laura\"]\n",
    "print (my_list.pop())\n",
    "print (my_list.pop())\n",
    "print (my_list.pop())\n",
    "\n",
    "print (len(my_list))"
   ]
  },
  {
   "cell_type": "code",
   "execution_count": null,
   "metadata": {},
   "outputs": [],
   "source": [
    "# lots of times you will need to sort lists\n",
    "\n",
    "my_list = [\"dan\", \"chris\", \"laura\"]\n",
    "my_list.sort()\n",
    "\n",
    "for each in my_list:\n",
    "    print (each)"
   ]
  },
  {
   "cell_type": "code",
   "execution_count": null,
   "metadata": {},
   "outputs": [],
   "source": [
    "# in rare cases you will need to reverse a list\n",
    "my_list = [\"dan\", \"chris\", \"laura\"]\n",
    "my_list.reverse()\n",
    "\n",
    "for each in my_list:\n",
    "    print (each)"
   ]
  },
  {
   "cell_type": "code",
   "execution_count": null,
   "metadata": {},
   "outputs": [],
   "source": [
    "# many times you will have 2 list\n",
    "# you will want to take 1 list and add it to the other list (extend)\n",
    "name_list1 = ['bob', 'chris', 'dan', 'laura', 'david']\n",
    "name_list2 = ['stacy', 'becky', 'jenny', 'megan', 'nate']\n",
    "\n",
    "name_list1.extend(name_list2)\n",
    "\n",
    "for each in name_list1:\n",
    "    print (each)"
   ]
  },
  {
   "cell_type": "code",
   "execution_count": null,
   "metadata": {},
   "outputs": [],
   "source": [
    "# many times you will have a list and you will need to \"insert\" a value\n",
    "# into the first slot.  Or another slot for that matter.  Python list\n",
    "# start at index 0.\n",
    "\n",
    "list2 = ['a', 'b', 'c', 'd', 'e']  \n",
    "  \n",
    "# insert z at the front of the list \n",
    "list2.insert(0, 'z') \n",
    "\n",
    "print(list2)\n",
    "\n",
    "# insert y in the middle\n",
    "list2.insert(round(len(list2)/2), 'y') \n",
    "\n",
    "print (list2)"
   ]
  },
  {
   "cell_type": "code",
   "execution_count": null,
   "metadata": {},
   "outputs": [],
   "source": [
    "# many times you need to copy a list to store one state while modifying \n",
    "# a second copy of the data and then comparing that data:\n",
    "\n",
    "name_list1 = ['bob', 'chris', 'dan', 'laura', 'david']\n",
    "name_list2 = name_list1.copy()\n",
    "\n",
    "name_list2.remove('david')\n",
    "name_list2.remove('dan')\n",
    "\n",
    "print (name_list1)\n",
    "print (name_list2)\n",
    "\n",
    "# show the diff between two lists\n",
    "# this is where sets can come into play\n",
    "def list_diff(list1, list2): \n",
    "    return (list(set(list1) - set(list2))) \n",
    "\n",
    "# which elements are missing from one list to another\n",
    "print(list_diff(name_list1, name_list2)) "
   ]
  },
  {
   "cell_type": "code",
   "execution_count": null,
   "metadata": {},
   "outputs": [],
   "source": [
    "# I try to avoid nested objectes but sometimes you cannot avoid it in python.\n",
    "# lots of times you will see stuff like this:\n",
    "\n",
    "my_list = ['Dan', [5, 10], 'Chris', [1, 2, 3]]\n",
    "\n",
    "print (my_list)\n",
    "\n",
    "print ()\n",
    "for each in my_list:\n",
    "    # I can check the type of the object:\n",
    "    if isinstance(each, str): \n",
    "        print (each)\n",
    "    elif isinstance(each, list):\n",
    "        for each2 in each:\n",
    "            print (each2)\n",
    "        print()\n",
    "    else:\n",
    "        print (\"shouldn't get here if you know your object data type.\")\n",
    "        \n",
    "# NOTE: THIS DIRECTLY VIOLATES A couple import this rules.  \n",
    "# Please try avoid this if possible.\n",
    "# Complex is better than complicated.\n",
    "# Flat is better than nested."
   ]
  },
  {
   "cell_type": "code",
   "execution_count": null,
   "metadata": {},
   "outputs": [],
   "source": [
    "# many times you will have multiple list and will need to \"map\" them to a list \n",
    "# to iterate over it.  What is nice is python returns an interator instead of\n",
    "# a new list to save memory.\n",
    "\n",
    "name_list = ['bob', 'chris', 'dan', 'laura', 'david']\n",
    "age_list = [2, 5, 4, 44, 3]\n",
    "\n",
    "new_iterator = zip(name_list, age_list)\n",
    "\n",
    "for obj1 in new_iterator:\n",
    "    print (obj1)"
   ]
  },
  {
   "cell_type": "code",
   "execution_count": null,
   "metadata": {},
   "outputs": [],
   "source": [
    "# A tuple is a collection which is ordered and unchangeable. In Python tuples are written with round brackets.\n",
    "# tuples also take up less space then python lists.\n",
    "# tuples are great for static items that do not change.\n",
    "\n",
    "from sys import getsizeof as gs\n",
    "\n",
    "my_tuple = (\"apple\", \"banana\", \"cherry\")\n",
    "print (type(my_tuple))\n",
    "\n",
    "print (gs(my_tuple))\n",
    "print (gs(list(my_tuple)))\n",
    "\n",
    "print ()\n",
    "for each in my_tuple:\n",
    "    print (each)"
   ]
  },
  {
   "cell_type": "markdown",
   "metadata": {},
   "source": [
    "next tutorial: [0005_dict.ipynb](https://mybinder.org/v2/gh/thesheff17/pythonexamples/master?filepath=src%2F0005_dict.ipynb)"
   ]
  }
 ],
 "metadata": {
  "kernelspec": {
   "display_name": "Python 3",
   "language": "python",
   "name": "python3"
  },
  "language_info": {
   "codemirror_mode": {
    "name": "ipython",
    "version": 3
   },
   "file_extension": ".py",
   "mimetype": "text/x-python",
   "name": "python",
   "nbconvert_exporter": "python",
   "pygments_lexer": "ipython3",
   "version": "3.7.6"
  }
 },
 "nbformat": 4,
 "nbformat_minor": 4
}
