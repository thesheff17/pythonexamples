{
 "cells": [
  {
   "cell_type": "code",
   "execution_count": null,
   "metadata": {},
   "outputs": [],
   "source": [
    "# 0003_numbers.ipynb\n",
    "\n",
    "# integers are whole numbers\n",
    "\n",
    "age = 40\n",
    "\n",
    "age2 = age + 5\n",
    "\n",
    "\"I will be {0} years old in five years time.\".format(age2)"
   ]
  },
  {
   "cell_type": "code",
   "execution_count": null,
   "metadata": {},
   "outputs": [],
   "source": [
    "# many times you need to convert from string to int\n",
    "\n",
    "myage = \"40\"\n",
    "print (type(myage))\n",
    "\n",
    "myage_int = int(40)\n",
    "print (type(myage_int))\n",
    "\n",
    "print (myage_int+5)"
   ]
  },
  {
   "cell_type": "code",
   "execution_count": null,
   "metadata": {},
   "outputs": [],
   "source": [
    "# python essentially has unlimited integer limit as long as you have enough RAM\n",
    "print (\"running...\")\n",
    "x = 2**2000\n",
    "print (type(x))\n",
    "print (x)\n",
    "\n",
    "# be careful with this though you will hit upper bounds of database fields if you are not careful.\n",
    "# this is one very nice feature but also can be a dangerous feature."
   ]
  },
  {
   "cell_type": "code",
   "execution_count": null,
   "metadata": {},
   "outputs": [],
   "source": [
    "# float data structure are any numbers with a decimal point.\n",
    "\n",
    "percentage = 4.5\n",
    "print (type(percentage))\n",
    "\n",
    "# two integers can return a float\n",
    "a = 8\n",
    "b = 7\n",
    "\n",
    "c = a / b\n",
    "print (c)\n",
    "print (type(c))"
   ]
  },
  {
   "cell_type": "code",
   "execution_count": null,
   "metadata": {},
   "outputs": [],
   "source": [
    "# basic math from standard library\n",
    "from math import floor\n",
    "from math import ceil\n",
    "from math import pi\n",
    "\n",
    "a = 9.8\n",
    "print (floor(a))\n",
    "print (ceil(a))\n",
    "print (round(a))\n",
    "print (abs(a))\n",
    "print (pi)"
   ]
  },
  {
   "cell_type": "code",
   "execution_count": null,
   "metadata": {},
   "outputs": [],
   "source": [
    "# string to float\n",
    "\n",
    "my_value = \"3.14\"\n",
    "\n",
    "my_value2 = float(3.14)\n",
    "\n",
    "\"Now we can add to this value: {0}\".format(my_value2+2.2)"
   ]
  },
  {
   "cell_type": "code",
   "execution_count": null,
   "metadata": {},
   "outputs": [],
   "source": [
    "# int to float\n",
    "# float to int\n",
    "\n",
    "a = 1.0\n",
    "print (type(a), end=\" \")\n",
    "print (a)\n",
    "\n",
    "b = int(a)\n",
    "print (type(b), end=\" \")\n",
    "print (b)\n",
    "\n",
    "c = 1\n",
    "print (type(c), end=\" \")\n",
    "print (c)\n",
    "\n",
    "d = float(c)\n",
    "print (type(d), end=\" \")\n",
    "print (d)\n",
    "\n",
    "# any can be converted to string for printing\n",
    "print (\"a var is: \" + str(a))"
   ]
  },
  {
   "cell_type": "code",
   "execution_count": null,
   "metadata": {},
   "outputs": [],
   "source": [
    "# here is an example of a syntax error\n",
    "# which will also return an object:\n",
    "# TypeError: can only concatenate str (not \"float\") to str\n",
    "\n",
    "my_value = \"3.14\"\n",
    "\n",
    "\"Now we can add to this value: {0}\".format(my_value+2.2)"
   ]
  },
  {
   "cell_type": "markdown",
   "metadata": {},
   "source": [
    "next tutorial: [0004_lists_and_tuples.ipynb\t](https://mybinder.org/v2/gh/thesheff17/pythonexamples/master?filepath=src%2F0004_lists_and_tuples.ipynb)"
   ]
  }
 ],
 "metadata": {
  "kernelspec": {
   "display_name": "Python 3",
   "language": "python",
   "name": "python3"
  },
  "language_info": {
   "codemirror_mode": {
    "name": "ipython",
    "version": 3
   },
   "file_extension": ".py",
   "mimetype": "text/x-python",
   "name": "python",
   "nbconvert_exporter": "python",
   "pygments_lexer": "ipython3",
   "version": "3.7.6"
  }
 },
 "nbformat": 4,
 "nbformat_minor": 4
}
