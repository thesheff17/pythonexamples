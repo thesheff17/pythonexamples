{
 "cells": [
  {
   "cell_type": "code",
   "execution_count": null,
   "metadata": {},
   "outputs": [],
   "source": [
    "# python has a number of loops and some have already been demoed\n",
    "\n",
    "# the most common loop in python is the for loop.  You will see\n",
    "# this most of the time when using python.\n",
    "\n",
    "x = [\"Dan\", \"Chris\", \"Bob\", \"Laura\"]\n",
    "\n",
    "for each in x:\n",
    "    print (each)"
   ]
  },
  {
   "cell_type": "code",
   "execution_count": null,
   "metadata": {},
   "outputs": [],
   "source": [
    "# lets write a similiar loop with while:\n",
    "y = 0\n",
    "# we can also break in the loop after a certain amount.\n",
    "while y < len(x):\n",
    "    print (x[y])\n",
    "    y += 1"
   ]
  },
  {
   "cell_type": "code",
   "execution_count": null,
   "metadata": {},
   "outputs": [],
   "source": [
    "# lets break early on this loop so we only get the first 2 items:\n",
    "y = 0\n",
    "# we can also break in the loop after a certain amount.\n",
    "while y < len(x):\n",
    "    if y == 1:\n",
    "        print (\"HERE\")\n",
    "        break\n",
    "    print (x[y])\n",
    "    y += 1"
   ]
  },
  {
   "cell_type": "code",
   "execution_count": null,
   "metadata": {},
   "outputs": [],
   "source": [
    "# looping over a range of numbers:\n",
    "for x in range (0, 10):\n",
    "    print (x)\n",
    "\n",
    "print ()\n",
    "\n",
    "# we can also define a step:\n",
    "for x in range (0, 10, 2):\n",
    "    print (x)"
   ]
  },
  {
   "cell_type": "code",
   "execution_count": null,
   "metadata": {},
   "outputs": [],
   "source": [
    "# we have seen basic if statements before\n",
    "\n",
    "x = True\n",
    "\n",
    "# this evulates to True and is the simpliest if statment.\n",
    "if x:\n",
    "    print ('x was True')"
   ]
  },
  {
   "cell_type": "code",
   "execution_count": null,
   "metadata": {},
   "outputs": [],
   "source": [
    "# else statement\n",
    "\n",
    "y = 1\n",
    "\n",
    "# here we will check to see if y is 2.\n",
    "if y == 2:\n",
    "    print ('y was 2') # this does not run\n",
    "else:\n",
    "    print ('y was not 2')"
   ]
  },
  {
   "cell_type": "code",
   "execution_count": null,
   "metadata": {},
   "outputs": [],
   "source": [
    "# elif statment can check multiple checks\n",
    "\n",
    "def check_value(y):\n",
    "    if y == 2:\n",
    "        print('y is 2')\n",
    "    elif y == 1:\n",
    "        print ('y is is 1')\n",
    "    elif y > 10:\n",
    "        print ('y was at least greater then 10 ¯\\_(ツ)_/¯')\n",
    "    else:\n",
    "        print ('y was not 1 or 2...doing something else...')\n",
    "\n",
    "check_value(2)\n",
    "check_value(1)\n",
    "check_value(15)\n",
    "check_value(7)"
   ]
  },
  {
   "cell_type": "markdown",
   "metadata": {},
   "source": [
    "next tutorial: [0008_file_manipulation.ipynb](https://mybinder.org/v2/gh/thesheff17/pythonexamples/master?filepath=src%2F0008_file_manipulation.ipynb)"
   ]
  }
 ],
 "metadata": {
  "kernelspec": {
   "display_name": "Python 3",
   "language": "python",
   "name": "python3"
  },
  "language_info": {
   "codemirror_mode": {
    "name": "ipython",
    "version": 3
   },
   "file_extension": ".py",
   "mimetype": "text/x-python",
   "name": "python",
   "nbconvert_exporter": "python",
   "pygments_lexer": "ipython3",
   "version": "3.7.6"
  }
 },
 "nbformat": 4,
 "nbformat_minor": 2
}
