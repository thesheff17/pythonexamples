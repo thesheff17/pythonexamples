{
 "cells": [
  {
   "cell_type": "code",
   "execution_count": null,
   "metadata": {},
   "outputs": [],
   "source": [
    "# if you don't know the number of params befor hand \n",
    "# it is still possible to write code to use this structure\n",
    "\n",
    "\n",
    "# args will provide a list of items.\n",
    "\n",
    "def calc_double(*args):\n",
    "\n",
    "    for each in args:\n",
    "        print (2*each)\n",
    "        \n",
    "\n",
    "\n",
    "calc_double(4,5,6)\n",
    "calc_double(4,5,6, 7, 8, 9)"
   ]
  },
  {
   "cell_type": "code",
   "execution_count": null,
   "metadata": {},
   "outputs": [],
   "source": [
    "# you can also use this after pre defined params.\n",
    "# it is best to define as many params as possible and\n",
    "# then only use args kwargs when you really need them.\n",
    "\n",
    "def add_dog(name, *args):\n",
    "    print (\"Your dog name is: \" + name)\n",
    "    print (name + \" is currently taking \" + \" \".join(args))\n",
    "           \n",
    "\n",
    "add_dog(\"Buddy\", \"prozac\", \"heart worms\")\n",
    "add_dog(\"Roo\", \"heart worms\", \"antibiotics\", \"zonisamide\")"
   ]
  },
  {
   "cell_type": "code",
   "execution_count": null,
   "metadata": {},
   "outputs": [],
   "source": [
    "# if you need a defined list of params use **kwargs\n",
    "\n",
    "\n",
    "def add_dog(**kargs):\n",
    "    for key, value in kargs.items():\n",
    "        print(\"{}: {}\".format(key, value))\n",
    "    \n",
    "    \n",
    "add_dog(name=\"Buddy\", age=75, gender=\"male\", medicine=[\"prozac\", \"heart worms\"])\n",
    "add_dog(name=\"Roo\", age=50, gender=\"female\", medicine=[\"Roo\", \"heart worms\", \"antibiotics\", \"zonisamide\"])"
   ]
  },
  {
   "cell_type": "code",
   "execution_count": null,
   "metadata": {},
   "outputs": [],
   "source": [
    "# you can also do special logic based on a key in the dict\n",
    "\n",
    "def add_dog(**kargs):\n",
    "    if 'dosage' in kargs:\n",
    "            print (\"The dog has the dosage flag set.\")\n",
    "    for key, value in kargs.items():\n",
    "        print(\"{}: {}\".format(key, value))\n",
    "    print ()\n",
    "    \n",
    "    \n",
    "add_dog(name=\"Buddy\", age=75, gender=\"male\", medicine=[\"prozac\", \"heart worms\"])\n",
    "add_dog(name=\"Roo\", age=50, gender=\"female\", medicine=[\"Roo\", \"heart worms\", \"antibiotics\", \"zonisamide\"], dosage=None)"
   ]
  },
  {
   "cell_type": "code",
   "execution_count": null,
   "metadata": {},
   "outputs": [],
   "source": [
    "# args and kargs\n",
    "\n",
    "def add_dog(name, *args, **kargs):\n",
    "    print (\"dog name is: \" + name)\n",
    "    print (\"args are: \" + \" \".join(args))\n",
    "    print ()\n",
    "    print (\"kargs are: \")\n",
    "    for key, value in kargs.items():\n",
    "        print(\"{}: {}\".format(key, value))\n",
    "    print ()\n",
    "    \n",
    "add_dog(\"Buddy\", \"abc\", \"123\", \"cde\", \"456\", medicine=[\"prozac\", \"heart worms\"])\n",
    "add_dog(\"Roo\", \"abc\", \"123\", \"cde\", \"456\", medicine=[\"Roo\", \"heart worms\", \"antibiotics\", \"zonisamide\"], dosage=None)"
   ]
  }
 ],
 "metadata": {
  "kernelspec": {
   "display_name": "Python 3",
   "language": "python",
   "name": "python3"
  },
  "language_info": {
   "codemirror_mode": {
    "name": "ipython",
    "version": 3
   },
   "file_extension": ".py",
   "mimetype": "text/x-python",
   "name": "python",
   "nbconvert_exporter": "python",
   "pygments_lexer": "ipython3",
   "version": "3.7.6"
  }
 },
 "nbformat": 4,
 "nbformat_minor": 4
}
