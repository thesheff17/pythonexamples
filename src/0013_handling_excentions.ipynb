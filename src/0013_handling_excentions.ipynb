{
 "cells": [
  {
   "cell_type": "code",
   "execution_count": null,
   "metadata": {},
   "outputs": [],
   "source": [
    "# in python you can handle any exception with a try: block\n",
    "\n",
    "def divide_numbers(a, b):\n",
    "    try:\n",
    "        c = a / b\n",
    "        print (c)\n",
    "    except ZeroDivisionError:\n",
    "        print ('looks like you tried to divide by 0....')\n",
    "        pass\n",
    "\n",
    "\n",
    "divide_numbers(10,2)\n",
    "divide_numbers(100,50)\n",
    "divide_numbers(100,0)"
   ]
  },
  {
   "cell_type": "code",
   "execution_count": null,
   "metadata": {},
   "outputs": [],
   "source": [
    "# if you didn't have the try except you would get this output:\n",
    "100/0"
   ]
  },
  {
   "cell_type": "code",
   "execution_count": null,
   "metadata": {},
   "outputs": [],
   "source": [
    "# YOU SHOULD ALWAYS CATCH THE SPECIFIC ERROR AND DO NOT DO A GLOBAL EXCEPT!\n",
    "# I can't tell you the number of times I see this :(\n",
    "\n",
    "try: \n",
    "    10/0\n",
    "except:\n",
    "    pass\n",
    "\n",
    "# This code inside try/except can fail for any reason beyond ZeroDivisionError and we will never know."
   ]
  },
  {
   "cell_type": "code",
   "execution_count": null,
   "metadata": {},
   "outputs": [],
   "source": [
    "# so how do we fix the above?\n",
    "# we can catch multiple errors correctly as well get the error from exception\n",
    "\n",
    "def divide_numbers(a, b):\n",
    "    try:\n",
    "        c = a / b\n",
    "        print (c)\n",
    "    except (ZeroDivisionError) as e:\n",
    "        print (\"looks like you tried to divide by 0. error msg: %s\" % (e))\n",
    "    except (TypeError) as e:\n",
    "        print (\"looks like you tried to divide a non number. error msg: %s\" % (e))\n",
    "        pass\n",
    "\n",
    "divide_numbers(100,0)\n",
    "divide_numbers(10,\"0\")\n",
    "divide_numbers(100,50)"
   ]
  },
  {
   "cell_type": "code",
   "execution_count": null,
   "metadata": {},
   "outputs": [],
   "source": [
    "# you can also combine excepts into a single line:\n",
    "def divide_numbers(a, b):\n",
    "    try:\n",
    "        c = a / b\n",
    "        print (c)\n",
    "    except (ZeroDivisionError, TypeError) as e:\n",
    "        print ('sorry something went wrong: %s' % (e))\n",
    "        pass\n",
    "    \n",
    "divide_numbers(100,0)\n",
    "divide_numbers(10,\"0\")\n",
    "divide_numbers(100,50)"
   ]
  },
  {
   "cell_type": "code",
   "execution_count": null,
   "metadata": {},
   "outputs": [],
   "source": []
  }
 ],
 "metadata": {
  "kernelspec": {
   "display_name": "Python 3",
   "language": "python",
   "name": "python3"
  },
  "language_info": {
   "codemirror_mode": {
    "name": "ipython",
    "version": 3
   },
   "file_extension": ".py",
   "mimetype": "text/x-python",
   "name": "python",
   "nbconvert_exporter": "python",
   "pygments_lexer": "ipython3",
   "version": "3.7.6"
  }
 },
 "nbformat": 4,
 "nbformat_minor": 4
}
