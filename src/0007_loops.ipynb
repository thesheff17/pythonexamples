{
 "cells": [
  {
   "cell_type": "code",
   "execution_count": null,
   "metadata": {},
   "outputs": [],
   "source": [
    "# python has a number of loops and some have already been demoed\n",
    "\n",
    "# the most common loop in python is the for loop.  You will see\n",
    "# this most of the time when using python.\n",
    "\n",
    "x = [\"Dan\", \"Chris\", \"Bob\", \"Laura\"]\n",
    "\n",
    "for each in x:\n",
    "    print (each)"
   ]
  },
  {
   "cell_type": "code",
   "execution_count": null,
   "metadata": {},
   "outputs": [],
   "source": [
    "# lets write a similiar loop with while:\n",
    "y = 0\n",
    "# we can also break in the loop after a certain amount.\n",
    "while y < len(x):\n",
    "    print (x[y])\n",
    "    y += 1"
   ]
  },
  {
   "cell_type": "code",
   "execution_count": null,
   "metadata": {},
   "outputs": [],
   "source": [
    "# lets break early on this loop so we only get the first 2 items:\n",
    "y = 0\n",
    "# we can also break in the loop after a certain amount.\n",
    "while y < len(x):\n",
    "    if y == 1:\n",
    "        print (\"HERE\")\n",
    "        break\n",
    "    print (x[y])\n",
    "    y += 1"
   ]
  },
  {
   "cell_type": "code",
   "execution_count": null,
   "metadata": {},
   "outputs": [],
   "source": [
    "# looping over a range of numbers:\n",
    "for x in range (0, 10):\n",
    "    print (x)\n",
    "\n",
    "print ()\n",
    "\n",
    "# we can also define a step:\n",
    "for x in range (0, 10, 2):\n",
    "    print (x)"
   ]
  }
 ],
 "metadata": {
  "kernelspec": {
   "display_name": "Python 3",
   "language": "python",
   "name": "python3"
  },
  "language_info": {
   "codemirror_mode": {
    "name": "ipython",
    "version": 3
   },
   "file_extension": ".py",
   "mimetype": "text/x-python",
   "name": "python",
   "nbconvert_exporter": "python",
   "pygments_lexer": "ipython3",
   "version": "3.6.9"
  }
 },
 "nbformat": 4,
 "nbformat_minor": 2
}
