{
 "cells": [
  {
   "cell_type": "code",
   "execution_count": null,
   "metadata": {},
   "outputs": [],
   "source": [
    "# python provides a number of ways to write more concise code\n",
    "# one of these ways is list comprehensions\n",
    "\n",
    "# lets create a list from 0 to 10\n",
    "my_list = []\n",
    "\n",
    "for i in range(10):\n",
    "    my_list.append(i)\n",
    "    \n",
    "print (my_list)"
   ]
  },
  {
   "cell_type": "code",
   "execution_count": null,
   "metadata": {},
   "outputs": [],
   "source": [
    "# with list comprehnesion we can do all the above code in 2 lines:\n",
    "# list comprehension use [] to evulate the statement\n",
    "\n",
    "x = [i for i in range(10)]\n",
    "print(x)"
   ]
  },
  {
   "cell_type": "code",
   "execution_count": null,
   "metadata": {},
   "outputs": [],
   "source": [
    "# the syntax is:\n",
    "# [ expression for item in list if conditional ]\n",
    "\n",
    "# so you can even do this:\n",
    "# Lets generate a list tfrom 0 to 100 that are even numbers only\n",
    "x = [i for i in range(100) if i % 2 == 0]\n",
    "print(x)\n",
    "print()\n",
    "\n",
    "# how about from 1 to 10,000 give me only every 100 values.\n",
    "x = [i for i in range(1, 10001) if i % 100 == 0]\n",
    "print(x)"
   ]
  },
  {
   "cell_type": "code",
   "execution_count": null,
   "metadata": {},
   "outputs": [],
   "source": [
    "# how about we need a list of numbers all * 3\n",
    "my_list = [3, 8, 9]\n",
    "multibythree = [item*3 for item in my_list]\n",
    "print(multibythree)"
   ]
  },
  {
   "cell_type": "code",
   "execution_count": null,
   "metadata": {},
   "outputs": [],
   "source": [
    "# lets add hello before everyones name:\n",
    "\n",
    "my_list = ['Dan', 'Chris', 'Bob', 'Laura']\n",
    "hello = [\"hello \" + item for item in my_list]\n",
    "print(hello)"
   ]
  },
  {
   "cell_type": "code",
   "execution_count": null,
   "metadata": {},
   "outputs": [],
   "source": [
    "# lots of time I get data with lots of white space\n",
    "my_list = ['Dan             ', '                  Chris             ', ' Bob', '       Laura']\n",
    "hello = [item.strip() for item in my_list]\n",
    "print(hello)\n",
    "\n",
    "# change everything to uppper case\n",
    "hello = [item.upper().strip() for item in my_list]\n",
    "print(hello)"
   ]
  },
  {
   "cell_type": "code",
   "execution_count": null,
   "metadata": {},
   "outputs": [],
   "source": [
    "# many times I need a list of int of length of each string in another list:\n",
    "\n",
    "my_list = ['Dan', 'Chris', 'Bob', 'Laura']\n",
    "my_length_list = [len(item) for item in my_list]\n",
    "print(my_list)\n",
    "print(my_length_list)"
   ]
  },
  {
   "cell_type": "code",
   "execution_count": null,
   "metadata": {},
   "outputs": [],
   "source": [
    "# you can also chain if statements:\n",
    "# give me both mod % 2 and % 5\n",
    "x = [i for i in range(1, 100) if i % 2 == 0 if i % 5 == 0]\n",
    "print(x)"
   ]
  },
  {
   "cell_type": "code",
   "execution_count": null,
   "metadata": {},
   "outputs": [],
   "source": [
    "# you can also do a if statement first\n",
    "oddeven = [\"Even\" if i%2==0 else \"Odd\" for i in range(10)]\n",
    "numbers = [i for i in range(10)]\n",
    "print (numbers)\n",
    "print (oddeven)"
   ]
  },
  {
   "cell_type": "code",
   "execution_count": null,
   "metadata": {},
   "outputs": [],
   "source": [
    "# modify a matrix\n",
    "matrix = [[1, 2], [3,4], [5,6], [7,8]]\n",
    "change_matrix = [[row[i] for row in matrix] for i in range(2)]\n",
    "print (change_matrix)"
   ]
  },
  {
   "cell_type": "markdown",
   "metadata": {},
   "source": [
    "next tutorial: [0016_calling_c_from_python.ipynb](https://mybinder.org/v2/gh/thesheff17/pythonexamples/master?filepath=src%2F0016_calling_c_from_python.ipynb)"
   ]
  }
 ],
 "metadata": {
  "kernelspec": {
   "display_name": "Python 3",
   "language": "python",
   "name": "python3"
  },
  "language_info": {
   "codemirror_mode": {
    "name": "ipython",
    "version": 3
   },
   "file_extension": ".py",
   "mimetype": "text/x-python",
   "name": "python",
   "nbconvert_exporter": "python",
   "pygments_lexer": "ipython3",
   "version": "3.7.6"
  }
 },
 "nbformat": 4,
 "nbformat_minor": 2
}
