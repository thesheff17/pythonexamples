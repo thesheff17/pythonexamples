{
 "cells": [
  {
   "cell_type": "code",
   "execution_count": null,
   "metadata": {},
   "outputs": [],
   "source": [
    "# 0002_strings.ipynb\n",
    "\n",
    "name = \"Dan,\"\n",
    "message = \"hello world!\"\n",
    "\n",
    "print (name + \" \" + message)\n",
    "\n",
    "# what are the types of the vars\n",
    "print (type(name))\n",
    "print (type(message))"
   ]
  },
  {
   "cell_type": "code",
   "execution_count": null,
   "metadata": {},
   "outputs": [],
   "source": [
    "# lets get a substring of a string\n",
    "\n",
    "name = \"The quick brown fox jumps over the lazy dog\"\n",
    "\n",
    "# skip the first 4 characters\n",
    "print (name[4:])\n",
    "\n",
    "# char 4 to 19\n",
    "print (name[4:19])\n",
    "\n",
    "# skip the last 9 characters\n",
    "print (name[:-9])"
   ]
  },
  {
   "cell_type": "code",
   "execution_count": null,
   "metadata": {},
   "outputs": [],
   "source": [
    "# finding strings in strings\n",
    "\n",
    "name = \"The quick brown fox jumps over the lazy dog\"\n",
    "\n",
    "# check if value in string\n",
    "if \"the\" in name:\n",
    "    print (\"found The...\")\n",
    "    \n",
    "# another way\n",
    "# find returns -1 if it cannot the string\n",
    "if name.find(\"The\") >= 0:\n",
    "    print (\"found The...\")\n",
    "    \n",
    "# not in\n",
    "if 'bla' not in name:\n",
    "    print (\"did not find bla...\")"
   ]
  },
  {
   "cell_type": "code",
   "execution_count": null,
   "metadata": {},
   "outputs": [],
   "source": [
    "# make a string lower case\n",
    "name2 = name.lower()\n",
    "print(name2)\n",
    "\n",
    "# make a string upper case\n",
    "name3 = name.upper()\n",
    "print(name3)\n",
    "\n",
    "# upper/lower are good when needing to compare input/\n",
    "print (name.upper().count('THE'))\n",
    "\n",
    "# replacing strings with other strings\n",
    "print (name.upper().replace('THE', 'YOU'))"
   ]
  },
  {
   "cell_type": "code",
   "execution_count": null,
   "metadata": {},
   "outputs": [],
   "source": [
    "# padding a string on the left\n",
    "value = \"2\"\n",
    "print (value.zfill(5))\n",
    "\n",
    "# need many a's\n",
    "print ('a'*5)\n",
    "\n",
    "# length of a string\n",
    "name = \"The quick brown fox jumps over the lazy dog\"\n",
    "print (len(name))\n",
    "\n",
    "# strip white spaces around strings\n",
    "name = \" BOB GREEN  \"\n",
    "print (name + \" hello\")\n",
    "print (name.strip() + \" hello\")\n",
    "\n",
    "# escaping characters with \\\n",
    "name = \"The quick brown \\\"fox\\\" jumps over the lazy \\\"dog\\\"\"\n",
    "print (name)\n",
    "\n",
    "# title case\n",
    "print (name.title())"
   ]
  },
  {
   "cell_type": "code",
   "execution_count": null,
   "metadata": {},
   "outputs": [],
   "source": [
    "# many times you will end up with input that is as string that you will want to \n",
    "# convert to an integer\n",
    "\n",
    "# lets write a small script that takes my value and gives me 20% of that value.\n",
    "\n",
    "def check_value(my_input):\n",
    "    if my_input.isdigit():\n",
    "        print (\"input is valued and is digits...\")\n",
    "        my_input2 = int(my_input) * .2\n",
    "        print (\"20% of \" + my_input + \" is: \" + str(my_input2))\n",
    "    else:\n",
    "        print (\"Sorry the input is not a valid digits...\")\n",
    "\n",
    "my_input1 = \"555\"\n",
    "my_input2 = \"555a\"\n",
    "\n",
    "check_value(my_input1)\n",
    "check_value(my_input2)"
   ]
  },
  {
   "cell_type": "code",
   "execution_count": null,
   "metadata": {},
   "outputs": [],
   "source": [
    "name = \"The quick brown fox jumps over the lazy dog\"\n",
    "\n",
    "# split the string\n",
    "name_list = name.split()\n",
    "\n",
    "print(name_list)\n",
    "\n",
    "# returns a list of words split by space\n",
    "print (type(name_list))\n",
    "\n",
    "# we can loop through this list:\n",
    "for each in name_list:\n",
    "    print (each)\n",
    "\n",
    "# we will go into allot more list details in a futher tutorial.\n",
    "print ()\n",
    "\n",
    "# strings also support splitlines()\n",
    "my_string = \"\"\"Donec sed odio dui. \n",
    "Etiam porta sem malesuada magna mollis euismod. \n",
    "Nullam id dolor id nibh ultricies vehicula ut id elit. \n",
    "Morbi leo risus, porta ac consectetur ac, vestibulum at eros. Praesent commodo cursus magna.\n",
    "\"\"\"\n",
    "\n",
    "for each in my_string.splitlines():\n",
    "    print (each)\n",
    "\n",
    "print ()\n",
    "\n",
    "# split based on setences while stripping line endings and spaces.\n",
    "for each in my_string.split(\".\"):\n",
    "    print (each.replace(\"\\n\", \"\").strip())"
   ]
  },
  {
   "cell_type": "code",
   "execution_count": null,
   "metadata": {},
   "outputs": [],
   "source": [
    "# better formatting for strings\n",
    "\n",
    "fname1 = \"Dan\"\n",
    "fname2 = \"Bob\"\n",
    "\n",
    "lname1 = \"Green\"\n",
    "lname2 = \"Smith\"\n",
    "\n",
    "\"Welcome to python {0} & {1}.  Please agree to the terms {0} {2}.  {1} {3} has already agreed to the terms.\".format(fname1, fname2, lname1, lname2)"
   ]
  },
  {
   "cell_type": "markdown",
   "metadata": {},
   "source": [
    "next tutorial: [0003_numbers.ipynb](https://mybinder.org/v2/gh/thesheff17/pythonexamples/master?filepath=src%2F0003_numbers.ipynb)"
   ]
  }
 ],
 "metadata": {
  "kernelspec": {
   "display_name": "Python 3",
   "language": "python",
   "name": "python3"
  },
  "language_info": {
   "codemirror_mode": {
    "name": "ipython",
    "version": 3
   },
   "file_extension": ".py",
   "mimetype": "text/x-python",
   "name": "python",
   "nbconvert_exporter": "python",
   "pygments_lexer": "ipython3",
   "version": "3.7.6"
  }
 },
 "nbformat": 4,
 "nbformat_minor": 4
}
