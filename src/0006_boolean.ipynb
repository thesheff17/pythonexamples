{
 "cells": [
  {
   "cell_type": "code",
   "execution_count": null,
   "metadata": {},
   "outputs": [],
   "source": [
    "# python has 2 boolean types True and False\n",
    "\n",
    "my_info1 = True\n",
    "\n",
    "# check if this value is True\n",
    "if my_info1:\n",
    "    print ('The value of in1 is True')\n",
    "    \n",
    "my_info2 = False\n",
    "if not my_info2:\n",
    "    print ('the value of info2 is False.')"
   ]
  },
  {
   "cell_type": "code",
   "execution_count": null,
   "metadata": {},
   "outputs": [],
   "source": [
    "# booleans also support numbers\n",
    "\n",
    "print (10 > 9)\n",
    "print (9 > 10)"
   ]
  },
  {
   "cell_type": "code",
   "execution_count": null,
   "metadata": {},
   "outputs": [],
   "source": [
    "# really nice to do an if statement + logic:\n",
    "\n",
    "a = 9\n",
    "b = 10\n",
    "\n",
    "if b > a:\n",
    "    print ('do something...')\n",
    "else:\n",
    "    print ('do something else...')"
   ]
  },
  {
   "cell_type": "code",
   "execution_count": null,
   "metadata": {},
   "outputs": [],
   "source": [
    "# 3 different logic for <, >, =\n",
    "\n",
    "def info(a, b):\n",
    "    if b > a:\n",
    "        print ('b is greator then a')\n",
    "    elif a > b:\n",
    "        print ('a is greator then b')\n",
    "    else:\n",
    "        print ('values are the same')\n",
    "\n",
    "        \n",
    "info(9, 10)\n",
    "info(10, 9)\n",
    "info (10, 10)"
   ]
  },
  {
   "cell_type": "code",
   "execution_count": null,
   "metadata": {},
   "outputs": [],
   "source": [
    "# lots of times I will write def that return a bool.\n",
    "# this is a very good way to encapsulate logic\n",
    "from random import choice\n",
    "\n",
    "def check_something():\n",
    "    print (\"doing lots of logic here.\")\n",
    "    return choice([True, False])\n",
    "\n",
    "# now in my code I can do this:\n",
    "if check_something():\n",
    "    print (\"my def returned true so I can continue\")\n",
    "else:\n",
    "    print ('my def is false so I should not continue')\n",
    "    \n",
    "if check_something():\n",
    "    print (\"my def returned true so I can continue\")\n",
    "else:\n",
    "    print ('my def is false so I should not continue')\n",
    "    \n",
    "if check_something():\n",
    "    print (\"my def returned true so I can continue\")\n",
    "else:\n",
    "    print ('my def is false so I should not continue')"
   ]
  },
  {
   "cell_type": "code",
   "execution_count": null,
   "metadata": {},
   "outputs": [],
   "source": [
    "# another good example is stopping short either in a loop in a program.\n",
    "# I will make this program stop working if check_something ever returns False.\n",
    "\n",
    "from random import choice\n",
    "from sys import exit\n",
    "\n",
    "def check_something():\n",
    "    print (\"doing lots of logic here.\")\n",
    "    return choice([True, False])\n",
    "\n",
    "# now in my code I can do this:\n",
    "if check_something():\n",
    "    print (\"my def returned true so I can continue\")\n",
    "else:\n",
    "    print ('my def is false so I should not continue')\n",
    "    print ('exiting with status code 1')\n",
    "    exit(1)\n",
    "    \n",
    "if check_something():\n",
    "    print (\"my def returned true so I can continue\")\n",
    "else:\n",
    "    print ('my def is false so I should not continue')\n",
    "    print ('exiting with status code 1')\n",
    "    exit(1)\n",
    "    \n",
    "if check_something():\n",
    "    print (\"my def returned true so I can continue\")\n",
    "else:\n",
    "    print ('my def is false so I should not continue')\n",
    "    print ('exiting with status code 1')\n",
    "    exit(1)"
   ]
  },
  {
   "cell_type": "markdown",
   "metadata": {},
   "source": [
    "next tutorial: [0007_loops_if_statements.ipynb](https://mybinder.org/v2/gh/thesheff17/pythonexamples/master?filepath=src%2F0007_loops_if_statements.ipynb)"
   ]
  }
 ],
 "metadata": {
  "kernelspec": {
   "display_name": "Python 3",
   "language": "python",
   "name": "python3"
  },
  "language_info": {
   "codemirror_mode": {
    "name": "ipython",
    "version": 3
   },
   "file_extension": ".py",
   "mimetype": "text/x-python",
   "name": "python",
   "nbconvert_exporter": "python",
   "pygments_lexer": "ipython3",
   "version": "3.7.6"
  }
 },
 "nbformat": 4,
 "nbformat_minor": 4
}
