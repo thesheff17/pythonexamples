{
 "cells": [
  {
   "cell_type": "code",
   "execution_count": null,
   "metadata": {},
   "outputs": [],
   "source": [
    "# many times you will need call into or write your own C\n",
    "# functions that python will call into.  This can speed things \n",
    "# up when dealing with python"
   ]
  },
  {
   "cell_type": "code",
   "execution_count": null,
   "metadata": {},
   "outputs": [],
   "source": [
    "code = \"\"\"#include <stdio.h>\n",
    "\n",
    "int square(int i) {\n",
    "    return i * i;\n",
    "}\"\"\"\n",
    "\n",
    "with open('square.c', 'w+') as f:\n",
    "    f.write(code)\n",
    "f.close()\n",
    "print ('C code written to file')"
   ]
  },
  {
   "cell_type": "code",
   "execution_count": null,
   "metadata": {},
   "outputs": [],
   "source": [
    "# here we can run linux commands instead of python using a ! in front of any linux command.\n",
    "\n",
    "# will show you files on the file system.\n",
    "!ls -la square.c"
   ]
  },
  {
   "cell_type": "code",
   "execution_count": null,
   "metadata": {},
   "outputs": [],
   "source": [
    "# now lets compile out c module:\n",
    "!cc -fPIC -shared -o square.so square.c\n",
    "print ('compile of c module completed.')"
   ]
  },
  {
   "cell_type": "code",
   "execution_count": null,
   "metadata": {},
   "outputs": [],
   "source": [
    "# lets make sure we see our newly compile module\n",
    "!ls -la square.*"
   ]
  },
  {
   "cell_type": "code",
   "execution_count": null,
   "metadata": {},
   "outputs": [],
   "source": [
    "# now lets use this C module:\n",
    "\n",
    "from ctypes import *\n",
    "\n",
    "# load out module\n",
    "so_file = \"./square.so\"\n",
    "\n",
    "# set our function to var:\n",
    "square = CDLL(so_file)\n",
    "\n",
    "print(square.square(10))"
   ]
  }
 ],
 "metadata": {
  "kernelspec": {
   "display_name": "Python 3",
   "language": "python",
   "name": "python3"
  },
  "language_info": {
   "codemirror_mode": {
    "name": "ipython",
    "version": 3
   },
   "file_extension": ".py",
   "mimetype": "text/x-python",
   "name": "python",
   "nbconvert_exporter": "python",
   "pygments_lexer": "ipython3",
   "version": "3.7.6"
  }
 },
 "nbformat": 4,
 "nbformat_minor": 4
}
