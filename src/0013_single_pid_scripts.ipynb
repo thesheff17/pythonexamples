{
 "cells": [
  {
   "cell_type": "code",
   "execution_count": null,
   "metadata": {},
   "outputs": [],
   "source": [
    "# many times you want to make sure a script is only running once\n",
    "# if you write scripts that do complex things that depend on other things\n",
    "# many times if this script runs a second time it could be disastrous.\n",
    "\n",
    "# this is hard to demo in the jupyter notebooks so I will just provide the code to do this:\n",
    "# I put the below code in locking.py\n",
    "\n",
    "# you can download a sample of this script here: \n",
    "# https://raw.githubusercontent.com/thesheff17/pythonexamples/master/src/locking.py\n",
    "\n",
    "# from pid import PidFile\n",
    "# from time import sleep\n",
    "\n",
    "# with PidFile(piddir='./locking.lock'):\n",
    "#    print (\"got the pid...\")\n",
    "\n",
    "#    while True:\n",
    "#        print ('running script....')\n",
    "#        sleep(3)\n",
    "        \n",
    "# when you run the above code you will see:\n",
    "# python3 locking.py \n",
    "# got the pid...\n",
    "# running script....\n",
    "# running script....\n",
    "# running script....\n",
    "# running script....\n",
    "# running script....\n"
   ]
  },
  {
   "cell_type": "code",
   "execution_count": null,
   "metadata": {},
   "outputs": [],
   "source": [
    "# when you try to run it a second time you will get:\n",
    "\n",
    "# python3 locking.py \n",
    "# Traceback (most recent call last):\n",
    "#  File \"~/.virtualenvs/bpython3/lib/python3.5/site-packages/pid/__init__.py\", line 174, in create\n",
    "#    fcntl.flock(self.fh.fileno(), fcntl.LOCK_EX | fcntl.LOCK_NB)\n",
    "# BlockingIOError: [Errno 11] Resource temporarily unavailable\n",
    "\n",
    "# During handling of the above exception, another exception occurred:\n",
    "\n",
    "# Traceback (most recent call last):\n",
    "#  File \"./locking.py\", line 4, in <module>\n",
    "#    with PidFile(piddir='./testLocking.lock'):\n",
    "#  File \"~/.virtualenvs/bpython3/lib/python3.5/site-packages/pid/__init__.py\", line 216, in __enter__\n",
    "#    self.create()\n",
    "#  File \"~/.virtualenvs/bpython3/lib/python3.5/site-packages/pid/__init__.py\", line 178, in create\n",
    "#    raise PidFileAlreadyLockedError(exc)\n",
    "# pid.PidFileAlreadyLockedError: [Errno 11] Resource temporarily unavailable"
   ]
  }
 ],
 "metadata": {
  "kernelspec": {
   "display_name": "Python 3",
   "language": "python",
   "name": "python3"
  },
  "language_info": {
   "codemirror_mode": {
    "name": "ipython",
    "version": 3
   },
   "file_extension": ".py",
   "mimetype": "text/x-python",
   "name": "python",
   "nbconvert_exporter": "python",
   "pygments_lexer": "ipython3",
   "version": "3.6.9"
  }
 },
 "nbformat": 4,
 "nbformat_minor": 2
}
