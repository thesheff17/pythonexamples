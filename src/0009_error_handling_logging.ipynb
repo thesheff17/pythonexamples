{
 "cells": [
  {
   "cell_type": "code",
   "execution_count": null,
   "metadata": {},
   "outputs": [],
   "source": [
    "# error hanlding\n",
    "\n",
    "# eventually you will run into a point where your python code will error\n",
    "# when this happens you can take 2 options.\n",
    "# 1) try to patch the code so it doesn't error\n",
    "# 2) catch the error so the program continues running (basically unable to do option 1)\n",
    "\n",
    "# here is a simple example of a divide by 0 error.\n",
    "# when you catch a python error make sure it is explicit as possible! \n",
    "# NEVER CATCH ALL ERRORS IF YOU CAN AVOID IT!\n",
    "\n",
    "a = 5\n",
    "b = 0\n",
    "\n",
    "# in our example we specifically catch \"ZeroDivisionError\" error\n",
    "try:\n",
    "    c = a / b\n",
    "except ZeroDivisionError as e:\n",
    "    print (\"error: %s\" % (e))\n",
    "\n",
    "print (\"script can continue even though something failed...\")"
   ]
  },
  {
   "cell_type": "code",
   "execution_count": null,
   "metadata": {},
   "outputs": [],
   "source": [
    "# here we are going to simulate bad data coming into our def output\n",
    "# you can see we catch multiple errors here:\n",
    "# (ZeroDivisionError, TypeError)\n",
    "\n",
    "def output(a, b):\n",
    "    try:\n",
    "        c = a / b\n",
    "    except (ZeroDivisionError, TypeError) as e:\n",
    "        print (\"error: %s\" % (e))\n",
    "\n",
    "output(5, 0)\n",
    "output(\"5.0\", 10)"
   ]
  },
  {
   "cell_type": "code",
   "execution_count": null,
   "metadata": {},
   "outputs": [],
   "source": [
    "# a long time ago I wanted a very simple block of code I could use in my scripts for logging\n",
    "# this snippet figures out what the name of the file it is running and automatically \n",
    "# names the log\n",
    "\n",
    "import logging\n",
    "import __main__ as main\n",
    "\n",
    "# logging\n",
    "try:\n",
    "    fileName1 = main.__file__\n",
    "    fileName1 = fileName1.replace(\"./\", \"\")\n",
    "    fileName1 = fileName1.replace(\".py\", \"\")\n",
    "    fileName1 = fileName1 + \".log\"\n",
    "except:\n",
    "    fileName1 = 'console.log'\n",
    "logging.basicConfig(format='%(asctime)s - %(filename)s - %(funcName)s - \\\n",
    "                           %(levelname)s - %(message)s', level=logging.INFO,\n",
    "                           filename=fileName1)\n",
    "\n",
    "# since we are running this inside a jupyter notebook you will get console.log\n",
    "print (fileName1)\n",
    "logging.error(\"logging an error!\")"
   ]
  },
  {
   "cell_type": "code",
   "execution_count": null,
   "metadata": {},
   "outputs": [],
   "source": [
    "# lets see what our console.log looks like.  We should see our error.\n",
    "# what is nice about our format= in the above code is we get allot more output in the logs.\n",
    "# we get timestamps, def it is called from, error type and the error message.\n",
    "# I will show in the next example how it logs the def name in the logs.\n",
    "f = open('console.log')\n",
    "print(f.read()) "
   ]
  },
  {
   "cell_type": "code",
   "execution_count": null,
   "metadata": {},
   "outputs": [],
   "source": [
    "# when you run this you will see the def \"see_if_this_works\" replace where module was in the first example\n",
    "# this is really useful when debugging classes you wrote.\n",
    "def see_if_this_works():\n",
    "    logging.error('logging from the def see_if_this_works...')\n",
    "    \n",
    "see_if_this_works()\n",
    "see_if_this_works()\n",
    "\n",
    "f = open('console.log')\n",
    "print(f.read()) "
   ]
  }
 ],
 "metadata": {
  "kernelspec": {
   "display_name": "Python 3",
   "language": "python",
   "name": "python3"
  },
  "language_info": {
   "codemirror_mode": {
    "name": "ipython",
    "version": 3
   },
   "file_extension": ".py",
   "mimetype": "text/x-python",
   "name": "python",
   "nbconvert_exporter": "python",
   "pygments_lexer": "ipython3",
   "version": "3.7.6"
  }
 },
 "nbformat": 4,
 "nbformat_minor": 4
}
